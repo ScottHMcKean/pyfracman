{
 "cells": [
  {
   "cell_type": "markdown",
   "metadata": {},
   "source": [
    "This notebook accompanies the Whisper Connected Fracture Analysis note."
   ]
  },
  {
   "cell_type": "code",
   "execution_count": 13,
   "metadata": {},
   "outputs": [],
   "source": [
    "from pathlib import Path\n",
    "\n",
    "import geopandas as gpd\n",
    "import pandas as pd\n",
    "import numpy as np\n",
    "from shapely.geometry import LineString\n",
    "\n",
    "from pyfracman.data import clean_columns\n",
    "from pyfracman.fab import parse_fab_file\n",
    "from pyfracman.frac_geo import flatten_frac, get_mid_z, get_fracture_set_stats\n",
    "from pyfracman.well_geo import (\n",
    "    load_stage_location,\n",
    "    load_survey_export, \n",
    "    well_surveys_to_linestrings, \n",
    "    stage_locs_to_gdf\n",
    "    )"
   ]
  },
  {
   "cell_type": "code",
   "execution_count": 2,
   "metadata": {},
   "outputs": [],
   "source": [
    "data_dir = Path(r\"C:\\Users\\scott.mckean\\Desktop\\Data Exports\")"
   ]
  },
  {
   "cell_type": "code",
   "execution_count": 3,
   "metadata": {},
   "outputs": [],
   "source": [
    "# load fractures\n",
    "frac_fpath = next(data_dir.rglob(\"Interpreted_Seismic_Lineaments.fab\"))\n",
    "fracs = parse_fab_file(frac_fpath)"
   ]
  },
  {
   "cell_type": "code",
   "execution_count": 4,
   "metadata": {},
   "outputs": [],
   "source": [
    "### Load fractures ###\n",
    "\n",
    "# load fracture properties\n",
    "# parse average properties per fracture\n",
    "# must average for tesselated fractures\n",
    "if len(fracs.get('t_properties')) > 0:\n",
    "    fracs['prop_list'] = [np.mean(x, axis=1) for x in fracs['t_properties']]\n",
    "    prop_df = pd.DataFrame(fracs['prop_list'], columns = fracs['prop_dict'].values(), index=fracs['t_fid'])\n",
    "else:\n",
    "    prop_df = pd.DataFrame(fracs['prop_list'], columns = fracs['prop_dict'].values(), index=fracs['fid'])\n",
    "\n",
    "prop_df.index.set_names('fid', inplace=True)\n",
    "\n",
    "# load fracture geometry and flatten to 2D at midpoint of frac plane\n",
    "if len(fracs.get('t_nodes')) > 0:\n",
    "    frac_linestrings = list(map(flatten_frac, fracs['t_nodes']))\n",
    "    frac_mid_z = list(map(get_mid_z, fracs['t_nodes']))\n",
    "else:\n",
    "    frac_linestrings = list(map(flatten_frac, fracs['fracs']))\n",
    "    frac_mid_z = list(map(get_mid_z, fracs['fracs']))\n",
    "\n",
    "frac_gdf = gpd.GeoDataFrame(prop_df, geometry=frac_linestrings)"
   ]
  },
  {
   "cell_type": "code",
   "execution_count": 5,
   "metadata": {},
   "outputs": [],
   "source": [
    "# for stochastic connections - don't need this yet\n",
    "conn_out = []\n",
    "for conn_fpath in data_dir.rglob(\"*_Connections.txt\"):\n",
    "    set_a = get_fracture_set_stats(conn_fpath, set_name='Stochastic Faults - Set A_1', set_alias='set_a')\n",
    "    set_b = get_fracture_set_stats(conn_fpath, set_name='Stochastic Faults - Set B_1', set_alias='set_b')\n",
    "    sets = set_a.merge(set_b, on=['stage_no','well','object'])\n",
    "    conn_out.append(sets)\n",
    "\n",
    "stochastic_connections = pd.concat(conn_out)"
   ]
  },
  {
   "cell_type": "code",
   "execution_count": 66,
   "metadata": {},
   "outputs": [],
   "source": [
    "### load stages and surveys ###\n",
    "# load surveys and convert to linestrings\n",
    "surveys = pd.concat(\n",
    "    [load_survey_export(well_path) for well_path in data_dir.glob(\"*_well.txt\")]\n",
    ")\n",
    "survey_linestrings = well_surveys_to_linestrings(surveys)\n",
    "\n",
    "# load stage locations and convert to GDF with points and linestring\n",
    "stage_locs = pd.concat(\n",
    "    [load_stage_location(well_path) for well_path in data_dir.glob(\"*_intervals.txt\")]\n",
    ")\n",
    "stage_gdf = stage_locs_to_gdf(stage_locs)\n",
    "\n",
    "# get stage start times, with clean non-flowback for geometry merge\n",
    "stage_times = pd.read_parquet(data_dir / \"stage_times.parquet\")\n",
    "stage_times['stage_w_f'] = stage_times['stage'].copy()\n",
    "stage_times['stage'] = stage_times['stage_w_f'].astype(int)"
   ]
  },
  {
   "cell_type": "code",
   "execution_count": 84,
   "metadata": {},
   "outputs": [],
   "source": [
    "# load manual connections\n",
    "manual_map = pd.read_excel(data_dir / 'Stage - Event Array.xlsx', skiprows=1)\n",
    "connections = manual_map.iloc[:,2:].apply(lambda x: x.dropna().unique().astype(int), axis=1)\n",
    "connections.name = 'connections'\n",
    "\n",
    "# get well and stage\n",
    "well_stg = manual_map.Stage.str.split(\"_\",expand=True)\n",
    "well_stg.columns = ['well', 'stage']\n",
    "manual_connections = pd.concat([well_stg, connections], axis=1)\n",
    "manual_connections['stage_w_f'] = manual_connections['stage'].copy()\n",
    "manual_connections['stage_w_f'] = manual_connections['stage_w_f'].str.replace('F',\".5\").astype(float)\n",
    "manual_connections['stage'] = manual_connections['stage_w_f'].astype(int)\n",
    "\n",
    "# add stage geometry and start times\n",
    "manual_connections = (manual_connections\n",
    "    .merge(stage_times, on=['well','stage_w_f','stage'], how='left')\n",
    "    .merge(stage_gdf, on=['well','stage'], how='left')\n",
    "    .pipe(gpd.GeoDataFrame)\n",
    "    )"
   ]
  },
  {
   "cell_type": "code",
   "execution_count": 99,
   "metadata": {},
   "outputs": [
    {
     "data": {
      "text/html": [
       "<div>\n",
       "<style scoped>\n",
       "    .dataframe tbody tr th:only-of-type {\n",
       "        vertical-align: middle;\n",
       "    }\n",
       "\n",
       "    .dataframe tbody tr th {\n",
       "        vertical-align: top;\n",
       "    }\n",
       "\n",
       "    .dataframe thead th {\n",
       "        text-align: right;\n",
       "    }\n",
       "</style>\n",
       "<table border=\"1\" class=\"dataframe\">\n",
       "  <thead>\n",
       "    <tr style=\"text-align: right;\">\n",
       "      <th></th>\n",
       "      <th>row labels</th>\n",
       "      <th>id</th>\n",
       "      <th>x</th>\n",
       "      <th>y</th>\n",
       "      <th>z</th>\n",
       "      <th>geometry</th>\n",
       "    </tr>\n",
       "  </thead>\n",
       "  <tbody>\n",
       "    <tr>\n",
       "      <th>0</th>\n",
       "      <td>SeisLineamt_ID_1</td>\n",
       "      <td>1</td>\n",
       "      <td>1763.58</td>\n",
       "      <td>-875.250</td>\n",
       "      <td>-255.701</td>\n",
       "      <td>POINT (1763.580 -875.250)</td>\n",
       "    </tr>\n",
       "    <tr>\n",
       "      <th>1</th>\n",
       "      <td>SeisLineamt_ID_10</td>\n",
       "      <td>10</td>\n",
       "      <td>1856.17</td>\n",
       "      <td>-412.361</td>\n",
       "      <td>-255.701</td>\n",
       "      <td>POINT (1856.170 -412.361)</td>\n",
       "    </tr>\n",
       "    <tr>\n",
       "      <th>2</th>\n",
       "      <td>SeisLineamt_ID_11</td>\n",
       "      <td>11</td>\n",
       "      <td>1417.78</td>\n",
       "      <td>-596.620</td>\n",
       "      <td>-255.701</td>\n",
       "      <td>POINT (1417.780 -596.620)</td>\n",
       "    </tr>\n",
       "    <tr>\n",
       "      <th>3</th>\n",
       "      <td>SeisLineamt_ID_12</td>\n",
       "      <td>12</td>\n",
       "      <td>1366.63</td>\n",
       "      <td>-678.503</td>\n",
       "      <td>-255.701</td>\n",
       "      <td>POINT (1366.630 -678.503)</td>\n",
       "    </tr>\n",
       "    <tr>\n",
       "      <th>4</th>\n",
       "      <td>SeisLineamt_ID_13</td>\n",
       "      <td>13</td>\n",
       "      <td>1383.50</td>\n",
       "      <td>-582.402</td>\n",
       "      <td>-255.701</td>\n",
       "      <td>POINT (1383.500 -582.402)</td>\n",
       "    </tr>\n",
       "  </tbody>\n",
       "</table>\n",
       "</div>"
      ],
      "text/plain": [
       "          row labels  id        x        y        z                   geometry\n",
       "0   SeisLineamt_ID_1   1  1763.58 -875.250 -255.701  POINT (1763.580 -875.250)\n",
       "1  SeisLineamt_ID_10  10  1856.17 -412.361 -255.701  POINT (1856.170 -412.361)\n",
       "2  SeisLineamt_ID_11  11  1417.78 -596.620 -255.701  POINT (1417.780 -596.620)\n",
       "3  SeisLineamt_ID_12  12  1366.63 -678.503 -255.701  POINT (1366.630 -678.503)\n",
       "4  SeisLineamt_ID_13  13  1383.50 -582.402 -255.701  POINT (1383.500 -582.402)"
      ]
     },
     "execution_count": 99,
     "metadata": {},
     "output_type": "execute_result"
    }
   ],
   "source": [
    "# load manual f\n",
    "lineaments = pd.read_csv(data_dir / 'Seismic Lineament centres.csv')\n",
    "lineaments.columns = clean_columns(lineaments.columns)\n",
    "lineaments = gpd.GeoDataFrame(lineaments, geometry=gpd.points_from_xy(lineaments['x'], lineaments['y']))\n",
    "lineaments.head()"
   ]
  },
  {
   "cell_type": "code",
   "execution_count": 122,
   "metadata": {},
   "outputs": [],
   "source": []
  },
  {
   "cell_type": "code",
   "execution_count": 133,
   "metadata": {},
   "outputs": [],
   "source": [
    "connections_out = []\n",
    "for i, row in manual_connections.iterrows():\n",
    "    for conn_fid in row.connections:\n",
    "        # make one row per connection, with a single geometry\n",
    "        stg_geom = row.geometry\n",
    "        frac_geom = lineaments.query(\"id == @conn_fid\").geometry.iloc[0]\n",
    "        conn_geom = LineString([stg_geom, frac_geom])\n",
    "        conn_out = gpd.GeoDataFrame(\n",
    "            row.to_frame().transpose()[['well','stage','well_stage','start_date','is_count']].reset_index(),\n",
    "            geometry=[conn_geom]\n",
    "            )\n",
    "        conn_out['fid'] = conn_fid\n",
    "        conn_out['start_date'] = conn_out.start_date.astype(str)\n",
    "        connections_out.append(conn_out)"
   ]
  },
  {
   "cell_type": "code",
   "execution_count": 134,
   "metadata": {},
   "outputs": [],
   "source": [
    "connections_out = pd.concat(connections_out)"
   ]
  },
  {
   "cell_type": "code",
   "execution_count": 140,
   "metadata": {},
   "outputs": [
    {
     "name": "stderr",
     "output_type": "stream",
     "text": [
      "C:\\Users\\scott.mckean\\Miniconda3\\lib\\site-packages\\geopandas\\io\\file.py:299: FutureWarning: pandas.Int64Index is deprecated and will be removed from pandas in a future version. Use pandas.Index with the appropriate dtype instead.\n",
      "  pd.Int64Index,\n"
     ]
    }
   ],
   "source": [
    "connections_out.to_file(data_dir / 'manual_connections.shp')\n",
    "connections_out.to_file(data_dir / 'manual_connections.geojson', driver='GeoJSON')"
   ]
  },
  {
   "cell_type": "code",
   "execution_count": null,
   "metadata": {},
   "outputs": [],
   "source": []
  },
  {
   "cell_type": "code",
   "execution_count": 139,
   "metadata": {},
   "outputs": [
    {
     "data": {
      "text/html": [
       "<div>\n",
       "<style scoped>\n",
       "    .dataframe tbody tr th:only-of-type {\n",
       "        vertical-align: middle;\n",
       "    }\n",
       "\n",
       "    .dataframe tbody tr th {\n",
       "        vertical-align: top;\n",
       "    }\n",
       "\n",
       "    .dataframe thead th {\n",
       "        text-align: right;\n",
       "    }\n",
       "</style>\n",
       "<table border=\"1\" class=\"dataframe\">\n",
       "  <thead>\n",
       "    <tr style=\"text-align: right;\">\n",
       "      <th></th>\n",
       "      <th>index</th>\n",
       "      <th>well</th>\n",
       "      <th>stage</th>\n",
       "      <th>well_stage</th>\n",
       "      <th>start_date</th>\n",
       "      <th>is_count</th>\n",
       "      <th>geometry</th>\n",
       "      <th>fid</th>\n",
       "    </tr>\n",
       "  </thead>\n",
       "  <tbody>\n",
       "    <tr>\n",
       "      <th>0</th>\n",
       "      <td>102</td>\n",
       "      <td>A6</td>\n",
       "      <td>28</td>\n",
       "      <td>A6_28F</td>\n",
       "      <td>2019-10-04 19:20:00</td>\n",
       "      <td>13</td>\n",
       "      <td>LINESTRING (628.761 -451.368, 843.699 -635.682)</td>\n",
       "      <td>22</td>\n",
       "    </tr>\n",
       "    <tr>\n",
       "      <th>0</th>\n",
       "      <td>102</td>\n",
       "      <td>A6</td>\n",
       "      <td>28</td>\n",
       "      <td>A6_28F</td>\n",
       "      <td>2019-10-04 19:20:00</td>\n",
       "      <td>13</td>\n",
       "      <td>LINESTRING (628.761 -451.368, 1110.460 -664.957)</td>\n",
       "      <td>19</td>\n",
       "    </tr>\n",
       "    <tr>\n",
       "      <th>0</th>\n",
       "      <td>102</td>\n",
       "      <td>A6</td>\n",
       "      <td>28</td>\n",
       "      <td>A6_28F</td>\n",
       "      <td>2019-10-04 19:20:00</td>\n",
       "      <td>13</td>\n",
       "      <td>LINESTRING (628.761 -451.368, 678.517 -873.950)</td>\n",
       "      <td>21</td>\n",
       "    </tr>\n",
       "  </tbody>\n",
       "</table>\n",
       "</div>"
      ],
      "text/plain": [
       "   index well stage well_stage           start_date is_count  \\\n",
       "0    102   A6    28     A6_28F  2019-10-04 19:20:00       13   \n",
       "0    102   A6    28     A6_28F  2019-10-04 19:20:00       13   \n",
       "0    102   A6    28     A6_28F  2019-10-04 19:20:00       13   \n",
       "\n",
       "                                           geometry  fid  \n",
       "0   LINESTRING (628.761 -451.368, 843.699 -635.682)   22  \n",
       "0  LINESTRING (628.761 -451.368, 1110.460 -664.957)   19  \n",
       "0   LINESTRING (628.761 -451.368, 678.517 -873.950)   21  "
      ]
     },
     "execution_count": 139,
     "metadata": {},
     "output_type": "execute_result"
    }
   ],
   "source": [
    "connections_out.query(\"well_stage == 'A6_28F'\")"
   ]
  },
  {
   "cell_type": "code",
   "execution_count": 137,
   "metadata": {},
   "outputs": [
    {
     "data": {
      "image/png": "[encoded data removed]",
      "text/plain": [
       "<Figure size 432x288 with 1 Axes>"
      ]
     },
     "metadata": {
      "needs_background": "light"
     },
     "output_type": "display_data"
    }
   ],
   "source": [
    "import matplotlib.pyplot as plt\n",
    "fig, ax = plt.subplots()\n",
    "survey_linestrings.plot(ax = ax)\n",
    "frac_gdf.plot(ax = ax, color='r')\n",
    "stage_gdf.set_geometry('stg_line').plot(ax = ax, color='k')\n",
    "connections_out.plot(ax = ax, color='b')\n",
    "ax.set_aspect('equal')\n",
    "plt.xlim(-250, 2000)\n",
    "plt.ylim(-1250, 1000)\n",
    "plt.show()"
   ]
  },
  {
   "cell_type": "code",
   "execution_count": null,
   "metadata": {},
   "outputs": [],
   "source": []
  }
 ],
 "metadata": {
  "interpreter": {
   "hash": "1da6b4c0c61e967c9c50c721731524595ebb2e94a3fd41f6678a65960ec1fa9d"
  },
  "kernelspec": {
   "display_name": "Python 3.10.2 64-bit",
   "language": "python",
   "name": "python3"
  },
  "language_info": {
   "codemirror_mode": {
    "name": "ipython",
    "version": 3
   },
   "file_extension": ".py",
   "mimetype": "text/x-python",
   "name": "python",
   "nbconvert_exporter": "python",
   "pygments_lexer": "ipython3",
   "version": "3.9.7"
  },
  "orig_nbformat": 4
 },
 "nbformat": 4,
 "nbformat_minor": 2
}
